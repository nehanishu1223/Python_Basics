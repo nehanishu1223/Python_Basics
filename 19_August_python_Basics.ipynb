{
 "cells": [
  {
   "cell_type": "markdown",
   "id": "7a6c3875-febb-4b7f-9383-391fc7b2136c",
   "metadata": {},
   "source": [
    "Assignment solution\n",
    "(python basic variable)\n",
    "solution 1"
   ]
  },
  {
   "cell_type": "code",
   "execution_count": 8,
   "id": "29a624f1-a3f1-4986-9ef6-5113dc71989e",
   "metadata": {},
   "outputs": [
    {
     "name": "stdout",
     "output_type": "stream",
     "text": [
      "The value of x and y: 5 10\n"
     ]
    }
   ],
   "source": [
    "x = 10\n",
    "y = 5\n",
    "x = x+y\n",
    "y = x-y\n",
    "x = x-y\n",
    "print(\"The value of x and y:\", x , y)"
   ]
  },
  {
   "cell_type": "raw",
   "id": "0391f2b8-8253-4f02-9a62-9535c8a16ef0",
   "metadata": {},
   "source": [
    "solution 2"
   ]
  },
  {
   "cell_type": "code",
   "execution_count": 9,
   "id": "8c74caa3-7df4-4c76-934b-f10c19425c19",
   "metadata": {},
   "outputs": [
    {
     "name": "stdin",
     "output_type": "stream",
     "text": [
      "Enter the number: 8\n",
      "Enter the number: 9\n"
     ]
    },
    {
     "name": "stdout",
     "output_type": "stream",
     "text": [
      "The area of rectangle is 72\n"
     ]
    }
   ],
   "source": [
    "length = int(input(\"Enter the number:\"))\n",
    "breadth = int(input(\"Enter the number:\"))\n",
    "area = length * breadth\n",
    "print(\"The area of rectangle is\", area)"
   ]
  },
  {
   "cell_type": "raw",
   "id": "86f83fc5-4965-4fde-95ed-cf611fe367d1",
   "metadata": {},
   "source": [
    "solution 3"
   ]
  },
  {
   "cell_type": "code",
   "execution_count": 10,
   "id": "c488ed8e-4f6c-4774-b1b2-86dd1d79dd4b",
   "metadata": {},
   "outputs": [
    {
     "name": "stdin",
     "output_type": "stream",
     "text": [
      "Enter the temperature in celsisus: 72\n"
     ]
    },
    {
     "name": "stdout",
     "output_type": "stream",
     "text": [
      "Celsisus temperature is equal to: 161.6\n"
     ]
    }
   ],
   "source": [
    "celsius_temperature = int(input(\"Enter the temperature in celsisus:\" ))\n",
    "fahrenheit_temperature = (celsius_temperature * 9/5) + 32\n",
    "print(\"Celsisus temperature is equal to:\" , fahrenheit_temperature)"
   ]
  },
  {
   "cell_type": "raw",
   "id": "1aa8bb52-9cd1-4ee6-bd3b-39c367912b34",
   "metadata": {},
   "source": [
    "STRING BASED SOLUTIONS \n",
    "solution 1"
   ]
  },
  {
   "cell_type": "code",
   "execution_count": 14,
   "id": "6d49be14-2961-4b83-b1a4-1b9f33f8b619",
   "metadata": {},
   "outputs": [
    {
     "name": "stdin",
     "output_type": "stream",
     "text": [
      "Enter the string:  This is my first program\n"
     ]
    },
    {
     "name": "stdout",
     "output_type": "stream",
     "text": [
      "5\n"
     ]
    }
   ],
   "source": [
    "input_string = input(\"Enter the string: \" )\n",
    "number_of_vowels = input_string.count('a')+input_string.count('e')+input_string.count('i')+input_string.count('o')+input_string.count('u')\n",
    "print(number_of_vowels)"
   ]
  },
  {
   "cell_type": "raw",
   "id": "a819c860-af2c-4d74-9e43-27d1bdb44a02",
   "metadata": {},
   "source": [
    "solution 2"
   ]
  },
  {
   "cell_type": "code",
   "execution_count": 12,
   "id": "bf1422b7-786d-4cc2-89c3-cdc932100559",
   "metadata": {},
   "outputs": [
    {
     "name": "stdin",
     "output_type": "stream",
     "text": [
      "Enter the string: physics wallah\n"
     ]
    },
    {
     "name": "stdout",
     "output_type": "stream",
     "text": [
      "The length of the string is: 14\n"
     ]
    }
   ],
   "source": [
    "string_input = input(\"Enter the string:\")\n",
    "print(\"The length of the string is:\", len(string_input))"
   ]
  },
  {
   "cell_type": "raw",
   "id": "2a38f9f2-5451-4171-bac0-ccfa28668ed7",
   "metadata": {},
   "source": [
    "solution 3"
   ]
  },
  {
   "cell_type": "code",
   "execution_count": 15,
   "id": "cb234d61-fa67-460a-930b-9e3d36eb9411",
   "metadata": {},
   "outputs": [
    {
     "name": "stdout",
     "output_type": "stream",
     "text": [
      "hallaw scisyhp\n"
     ]
    }
   ],
   "source": [
    "old_string = \"physics wallah\"\n",
    "reversed_string = old_string[::-1]\n",
    "print(reversed_string)"
   ]
  },
  {
   "cell_type": "raw",
   "id": "6e831c74-cde3-401c-84d3-505f103f5d76",
   "metadata": {},
   "source": [
    "solution 4"
   ]
  },
  {
   "cell_type": "code",
   "execution_count": 16,
   "id": "642d53f5-8f21-42d1-b1b4-241ba035e880",
   "metadata": {},
   "outputs": [
    {
     "name": "stdin",
     "output_type": "stream",
     "text": [
      "Enter the string: radar\n"
     ]
    },
    {
     "name": "stdout",
     "output_type": "stream",
     "text": [
      "radar\n"
     ]
    }
   ],
   "source": [
    "input_string = input(\"Enter the string:\")\n",
    "new = input_string[::-1]\n",
    "print(new)"
   ]
  },
  {
   "cell_type": "code",
   "execution_count": null,
   "id": "61ab3526-9f85-4b5e-93f1-5cc78775685a",
   "metadata": {},
   "outputs": [],
   "source": [
    "solution 5"
   ]
  },
  {
   "cell_type": "code",
   "execution_count": 17,
   "id": "ec3425c5-2092-4487-9d1d-eb80ec146965",
   "metadata": {},
   "outputs": [
    {
     "name": "stdin",
     "output_type": "stream",
     "text": [
      "Enter the string:, This is the best platform for online education.\n"
     ]
    },
    {
     "name": "stdout",
     "output_type": "stream",
     "text": [
      "Thisisthebestplatformforonlineeducation.\n"
     ]
    }
   ],
   "source": [
    "input_string = input('Enter the string:,')\n",
    "removed_spaces = input_string.replace(' ' , '')\n",
    "print(removed_spaces)"
   ]
  },
  {
   "cell_type": "code",
   "execution_count": null,
   "id": "9161fa5e-d4e4-447b-bc86-af4253de531a",
   "metadata": {},
   "outputs": [],
   "source": []
  },
  {
   "cell_type": "code",
   "execution_count": null,
   "id": "b08df1ec-38cf-4811-a103-4d8a4261fc5f",
   "metadata": {},
   "outputs": [],
   "source": []
  }
 ],
 "metadata": {
  "kernelspec": {
   "display_name": "Python 3 (ipykernel)",
   "language": "python",
   "name": "python3"
  },
  "language_info": {
   "codemirror_mode": {
    "name": "ipython",
    "version": 3
   },
   "file_extension": ".py",
   "mimetype": "text/x-python",
   "name": "python",
   "nbconvert_exporter": "python",
   "pygments_lexer": "ipython3",
   "version": "3.10.8"
  }
 },
 "nbformat": 4,
 "nbformat_minor": 5
}
